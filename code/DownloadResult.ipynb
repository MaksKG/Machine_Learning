{
 "cells": [
  {
   "cell_type": "code",
   "outputs": [],
   "source": [
    "import schedule\n",
    "import time\n",
    "import psycopg2\n",
    "from psycopg2 import sql"
   ],
   "metadata": {
    "collapsed": false,
    "ExecuteTime": {
     "end_time": "2024-03-16T12:15:10.457451Z",
     "start_time": "2024-03-16T12:15:10.453794Z"
    }
   },
   "id": "d73365c0bdb646ea",
   "execution_count": 4
  },
  {
   "cell_type": "code",
   "execution_count": 5,
   "id": "initial_id",
   "metadata": {
    "collapsed": true,
    "ExecuteTime": {
     "end_time": "2024-03-16T12:15:12.536955Z",
     "start_time": "2024-03-16T12:15:10.459541Z"
    }
   },
   "outputs": [
    {
     "name": "stdout",
     "output_type": "stream",
     "text": [
      "Дані успішно перезаписано з CSV-файлу до бази даних.\n"
     ]
    }
   ],
   "source": [
    "def load_data():\n",
    "    conn = psycopg2.connect(\n",
    "        dbname=\"Nasa\",\n",
    "        user=\"postgres\",\n",
    "        password=\"SvetikAB\",\n",
    "        host=\"35.226.174.213\",\n",
    "        port=\"5432\"\n",
    "    )\n",
    "    cur = conn.cursor()\n",
    "    csv_file_path = '../Data/result_cosmos.csv'\n",
    "    table_name = 'result_cosmos'\n",
    "    check_data_query = sql.SQL(\"SELECT EXISTS (SELECT 1 FROM {});\").format(sql.Identifier(table_name))\n",
    "    cur.execute(check_data_query)\n",
    "    data_exists = cur.fetchone()[0]\n",
    "    if data_exists:\n",
    "        delete_query = sql.SQL(\"DELETE FROM {};\").format(sql.Identifier(table_name))\n",
    "        cur.execute(delete_query)\n",
    "    sql_query = sql.SQL(\"\"\"\n",
    "        COPY {} FROM stdin WITH CSV HEADER;\n",
    "    \"\"\").format(sql.Identifier(table_name))\n",
    "    try:\n",
    "        with open(csv_file_path, mode='r') as f:\n",
    "            cur.copy_expert(sql_query, f)\n",
    "        conn.commit()\n",
    "        if data_exists:\n",
    "            print(\"Дані успішно перезаписано з CSV-файлу до бази даних.\")\n",
    "        else:\n",
    "            print(\"Дані успішно завантажено з CSV-файлу до бази даних.\")\n",
    "    except psycopg2.Error as e:\n",
    "        conn.rollback()\n",
    "        print(\"Помилка під час завантаження даних:\", e)\n",
    "    finally:\n",
    "        cur.close()\n",
    "        conn.close()\n",
    "\n",
    "# schedule.every().day.at(\"03:00\").do(load_data)\n",
    "load_data()"
   ]
  },
  {
   "cell_type": "code",
   "outputs": [
    {
     "name": "stdout",
     "output_type": "stream",
     "text": [
      "Дані успішно завантажено з CSV-файлу до бази даних.\n"
     ]
    }
   ],
   "source": [
    "def load_data():\n",
    "    conn = psycopg2.connect(\n",
    "        dbname=\"Nasa\",\n",
    "        user=\"postgres\",\n",
    "        password=\"SvetikAB\",\n",
    "        host=\"35.226.174.213\",\n",
    "        port=\"5432\"\n",
    "    )\n",
    "    cur = conn.cursor()\n",
    "    csv_file_path = '../Data/result_satellite.csv'\n",
    "    table_name = 'result_satellitedata'\n",
    "    check_data_query = sql.SQL(\"SELECT EXISTS (SELECT 1 FROM {});\").format(sql.Identifier(table_name))\n",
    "    cur.execute(check_data_query)\n",
    "    data_exists = cur.fetchone()[0]\n",
    "    if data_exists:\n",
    "        delete_query = sql.SQL(\"DELETE FROM {};\").format(sql.Identifier(table_name))\n",
    "        cur.execute(delete_query)\n",
    "    sql_query = sql.SQL(\"\"\"\n",
    "        COPY {} FROM stdin WITH CSV HEADER;\n",
    "    \"\"\").format(sql.Identifier(table_name))\n",
    "    try:\n",
    "        with open(csv_file_path, mode='r') as f:\n",
    "            cur.copy_expert(sql_query, f)\n",
    "        conn.commit()\n",
    "        if data_exists:\n",
    "            print(\"Дані успішно перезаписано з CSV-файлу до бази даних.\")\n",
    "        else:\n",
    "            print(\"Дані успішно завантажено з CSV-файлу до бази даних.\")\n",
    "    except psycopg2.Error as e:\n",
    "        conn.rollback()\n",
    "        print(\"Помилка під час завантаження даних:\", e)\n",
    "    finally:\n",
    "        cur.close()\n",
    "        conn.close()\n",
    "\n",
    "# schedule.every().day.at(\"03:00\").do(load_data)\n",
    "load_data()"
   ],
   "metadata": {
    "collapsed": false,
    "ExecuteTime": {
     "end_time": "2024-03-16T12:15:14.252071Z",
     "start_time": "2024-03-16T12:15:12.539029Z"
    }
   },
   "id": "2e002bd0ed77f324",
   "execution_count": 6
  },
  {
   "cell_type": "code",
   "outputs": [
    {
     "name": "stdout",
     "output_type": "stream",
     "text": [
      "Дані успішно завантажено з CSV-файлу до бази даних.\n"
     ]
    }
   ],
   "source": [
    "def load_data():\n",
    "    conn = psycopg2.connect(\n",
    "        dbname=\"Nasa\",\n",
    "        user=\"postgres\",\n",
    "        password=\"SvetikAB\",\n",
    "        host=\"35.226.174.213\",\n",
    "        port=\"5432\"\n",
    "    )\n",
    "    cur = conn.cursor()\n",
    "    csv_file_path = '../Data/result_iridium.csv'\n",
    "    table_name = 'result_iridium'\n",
    "    check_data_query = sql.SQL(\"SELECT EXISTS (SELECT 1 FROM {});\").format(sql.Identifier(table_name))\n",
    "    cur.execute(check_data_query)\n",
    "    data_exists = cur.fetchone()[0]\n",
    "    if data_exists:\n",
    "        delete_query = sql.SQL(\"DELETE FROM {};\").format(sql.Identifier(table_name))\n",
    "        cur.execute(delete_query)\n",
    "    sql_query = sql.SQL(\"\"\"\n",
    "        COPY {} FROM stdin WITH CSV HEADER;\n",
    "    \"\"\").format(sql.Identifier(table_name))\n",
    "    try:\n",
    "        with open(csv_file_path, mode='r') as f:\n",
    "            cur.copy_expert(sql_query, f)\n",
    "        conn.commit()\n",
    "        if data_exists:\n",
    "            print(\"Дані успішно перезаписано з CSV-файлу до бази даних.\")\n",
    "        else:\n",
    "            print(\"Дані успішно завантажено з CSV-файлу до бази даних.\")\n",
    "    except psycopg2.Error as e:\n",
    "        conn.rollback()\n",
    "        print(\"Помилка під час завантаження даних:\", e)\n",
    "    finally:\n",
    "        cur.close()\n",
    "        conn.close()\n",
    "\n",
    "# schedule.every().day.at(\"03:00\").do(load_data)\n",
    " \n",
    "load_data()"
   ],
   "metadata": {
    "collapsed": false,
    "ExecuteTime": {
     "end_time": "2024-03-16T12:15:15.942479Z",
     "start_time": "2024-03-16T12:15:14.253207Z"
    }
   },
   "id": "cd45417717bf9da4",
   "execution_count": 7
  }
 ],
 "metadata": {
  "kernelspec": {
   "display_name": "Python 3",
   "language": "python",
   "name": "python3"
  },
  "language_info": {
   "codemirror_mode": {
    "name": "ipython",
    "version": 2
   },
   "file_extension": ".py",
   "mimetype": "text/x-python",
   "name": "python",
   "nbconvert_exporter": "python",
   "pygments_lexer": "ipython2",
   "version": "2.7.6"
  }
 },
 "nbformat": 4,
 "nbformat_minor": 5
}
