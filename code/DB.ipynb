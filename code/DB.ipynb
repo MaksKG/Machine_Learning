{
 "cells": [
  {
   "cell_type": "code",
   "execution_count": 1,
   "id": "initial_id",
   "metadata": {
    "collapsed": true,
    "ExecuteTime": {
     "end_time": "2024-03-04T14:49:21.530926Z",
     "start_time": "2024-03-04T14:49:21.421084Z"
    }
   },
   "outputs": [
    {
     "name": "stdout",
     "output_type": "stream",
     "text": [
      "Error: 'utf-8' codec can't decode byte 0xd4 in position 49: invalid continuation byte\n",
      "Failed to connect to the database.\n"
     ]
    }
   ],
   "source": [
    "import csv\n",
    "import psycopg2\n",
    "\n",
    "# Replace these values with your own database credentials\n",
    "CONST_DB_NAME = \"sky\"\n",
    "CONST_DB_USER = \"postgres\"\n",
    "CONST_DB_PASSWORD = \"Warlock558\"\n",
    "CONST_DB_HOST = \"::1\"\n",
    "CONST_DB_PORT = \"5432\"\n",
    "CONST_TABLE_NAME = \"iridium\"\n",
    "data_iridium_csv = '../Data/iridium.csv'\n",
    "\n",
    "def connect_to_db():\n",
    "    try:\n",
    "        connection = psycopg2.connect(\n",
    "            dbname=CONST_DB_NAME,\n",
    "            user=CONST_DB_USER,\n",
    "            password=CONST_DB_PASSWORD,\n",
    "            host=CONST_DB_HOST,\n",
    "            port=CONST_DB_PORT\n",
    "        )\n",
    "        return connection\n",
    "    except Exception as e:\n",
    "        print(f\"Error: {e}\")\n",
    "        return None\n",
    "\n",
    "def fetch_data(connection):\n",
    "    cursor = connection.cursor()\n",
    "    query = f\"SELECT * FROM {CONST_TABLE_NAME};\"\n",
    "    cursor.execute(query)\n",
    "    rows = cursor.fetchall()\n",
    "    cursor.close()\n",
    "    return rows\n",
    "\n",
    "def write_to_csv(rows):\n",
    "    with open(data_iridium_csv, mode='w', newline='') as csv_file:\n",
    "        fieldnames = [desc[0] for desc in rows[0]]\n",
    "        writer = csv.DictWriter(csv_file, fieldnames=fieldnames)\n",
    "        writer.writeheader()\n",
    "        for row in rows:\n",
    "            writer.writerow({fieldnames[i]: value for i, value in enumerate(row)})\n",
    "\n",
    "if __name__ == \"__main__\":\n",
    "    connection = connect_to_db()\n",
    "    if connection:\n",
    "        rows = fetch_data(connection)\n",
    "        connection.close()\n",
    "\n",
    "        if rows:\n",
    "            write_to_csv(rows)\n",
    "            print(\"Data exported to CSV successfully.\")\n",
    "        else:\n",
    "            print(\"No data found in the table.\")\n",
    "    else:\n",
    "        print(\"Failed to connect to the database.\")"
   ]
  }
 ],
 "metadata": {
  "kernelspec": {
   "display_name": "Python 3",
   "language": "python",
   "name": "python3"
  },
  "language_info": {
   "codemirror_mode": {
    "name": "ipython",
    "version": 2
   },
   "file_extension": ".py",
   "mimetype": "text/x-python",
   "name": "python",
   "nbconvert_exporter": "python",
   "pygments_lexer": "ipython2",
   "version": "2.7.6"
  }
 },
 "nbformat": 4,
 "nbformat_minor": 5
}
