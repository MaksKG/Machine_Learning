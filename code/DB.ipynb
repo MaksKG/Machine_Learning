{
 "cells": [
  {
   "cell_type": "code",
   "outputs": [],
   "source": [
    "import csv\n",
    "import psycopg2"
   ],
   "metadata": {
    "collapsed": false,
    "ExecuteTime": {
     "end_time": "2024-03-16T17:57:41.253728Z",
     "start_time": "2024-03-16T17:57:41.217421Z"
    }
   },
   "id": "1c682685a10221d4",
   "execution_count": 1
  },
  {
   "cell_type": "code",
   "execution_count": 2,
   "id": "initial_id",
   "metadata": {
    "collapsed": true,
    "ExecuteTime": {
     "end_time": "2024-03-16T17:58:46.162945Z",
     "start_time": "2024-03-16T17:58:44.932041Z"
    }
   },
   "outputs": [
    {
     "name": "stdout",
     "output_type": "stream",
     "text": [
      "Data exported to CSV successfully.\n"
     ]
    }
   ],
   "source": [
    "CONST_DB_NAME = \"Nasa\"\n",
    "CONST_DB_USER = \"postgres\"\n",
    "CONST_DB_PASSWORD = \"SvetikAB\"\n",
    "CONST_DB_HOST = \"35.226.174.213\"\n",
    "CONST_DB_PORT = \"5432\"\n",
    "CONST_TABLE_NAME = \"result_satellitedata\"\n",
    "data_iridium_csv = '../Data/satellitedata.csv'\n",
    "\n",
    "def connect_to_db():\n",
    "    try:\n",
    "        connection = psycopg2.connect(\n",
    "            dbname=CONST_DB_NAME,\n",
    "            user=CONST_DB_USER,\n",
    "            password=CONST_DB_PASSWORD,\n",
    "            host=CONST_DB_HOST,\n",
    "            port=CONST_DB_PORT\n",
    "        )\n",
    "        return connection\n",
    "    except Exception as e:\n",
    "        print(f\"Error: {e}\")\n",
    "        return None\n",
    "\n",
    "def fetch_data(connection):\n",
    "    cursor = connection.cursor()\n",
    "    query = f\"SELECT * FROM {CONST_TABLE_NAME};\"\n",
    "    cursor.execute(query)\n",
    "    column_names = [desc[0].upper() for desc in cursor.description]\n",
    "    rows = cursor.fetchall()\n",
    "    cursor.close()\n",
    "    return rows, column_names\n",
    "\n",
    "def write_to_csv(rows, column_names):\n",
    "    with open(data_iridium_csv, mode='w', newline='') as csv_file:\n",
    "        # Convert column_names to uppercase\n",
    "        column_names = [name.upper() for name in column_names]\n",
    "        writer = csv.DictWriter(csv_file, fieldnames=column_names)\n",
    "        writer.writeheader()\n",
    "        for row in rows:\n",
    "            writer.writerow(dict(zip(column_names, row)))\n",
    "\n",
    "if __name__ == \"__main__\":\n",
    "    connection = connect_to_db()\n",
    "    if connection:\n",
    "        rows, column_names = fetch_data(connection)\n",
    "        connection.close()\n",
    "\n",
    "        if rows:\n",
    "            write_to_csv(rows, column_names)  \n",
    "            print(\"Data exported to CSV successfully.\")\n",
    "        else:\n",
    "            print(\"No data found in the table.\")\n",
    "    else:\n",
    "        print(\"Failed to connect to the database.\")"
   ]
  },
  {
   "cell_type": "code",
   "outputs": [
    {
     "name": "stdout",
     "output_type": "stream",
     "text": [
      "Data exported to CSV successfully.\n"
     ]
    }
   ],
   "source": [
    "CONST_DB_NAME = \"Nasa\"\n",
    "CONST_DB_USER = \"postgres\"\n",
    "CONST_DB_PASSWORD = \"SvetikAB\"\n",
    "CONST_DB_HOST = \"35.226.174.213\"\n",
    "CONST_DB_PORT = \"5432\"\n",
    "CONST_TABLE_NAME = \"cosmos\"\n",
    "data_iridium_csv = '../Data/cosmos.csv'\n",
    "\n",
    "def connect_to_db():\n",
    "    try:\n",
    "        connection = psycopg2.connect(\n",
    "            dbname=CONST_DB_NAME,\n",
    "            user=CONST_DB_USER,\n",
    "            password=CONST_DB_PASSWORD,\n",
    "            host=CONST_DB_HOST,\n",
    "            port=CONST_DB_PORT\n",
    "        )\n",
    "        return connection\n",
    "    except Exception as e:\n",
    "        print(f\"Error: {e}\")\n",
    "        return None\n",
    "\n",
    "def fetch_data(connection):\n",
    "    cursor = connection.cursor()\n",
    "    query = f\"SELECT * FROM {CONST_TABLE_NAME};\"\n",
    "    cursor.execute(query)\n",
    "    column_names = [desc[0].upper() for desc in cursor.description]\n",
    "    rows = cursor.fetchall()\n",
    "    cursor.close()\n",
    "    return rows, column_names\n",
    "\n",
    "def write_to_csv(rows, column_names):\n",
    "    with open(data_iridium_csv, mode='w', newline='') as csv_file:\n",
    "        # Convert column_names to uppercase\n",
    "        column_names = [name.upper() for name in column_names]\n",
    "        writer = csv.DictWriter(csv_file, fieldnames=column_names)\n",
    "        writer.writeheader()\n",
    "        for row in rows:\n",
    "            writer.writerow(dict(zip(column_names, row)))\n",
    "\n",
    "if __name__ == \"__main__\":\n",
    "    connection = connect_to_db()\n",
    "    if connection:\n",
    "        rows, column_names = fetch_data(connection)\n",
    "        connection.close()\n",
    "\n",
    "        if rows:\n",
    "            write_to_csv(rows, column_names)  \n",
    "            print(\"Data exported to CSV successfully.\")\n",
    "        else:\n",
    "            print(\"No data found in the table.\")\n",
    "    else:\n",
    "        print(\"Failed to connect to the database.\")"
   ],
   "metadata": {
    "collapsed": false,
    "ExecuteTime": {
     "end_time": "2024-03-15T12:00:30.373513Z",
     "start_time": "2024-03-15T12:00:28.779425Z"
    }
   },
   "id": "3746efd4472903bd",
   "execution_count": 3
  },
  {
   "cell_type": "code",
   "outputs": [
    {
     "name": "stdout",
     "output_type": "stream",
     "text": [
      "Data exported to CSV successfully.\n"
     ]
    }
   ],
   "source": [
    "CONST_DB_NAME = \"Nasa\"\n",
    "CONST_DB_USER = \"postgres\"\n",
    "CONST_DB_PASSWORD = \"SvetikAB\"\n",
    "CONST_DB_HOST = \"35.226.174.213\"\n",
    "CONST_DB_PORT = \"5432\"\n",
    "CONST_TABLE_NAME = \"iridium\"\n",
    "data_iridium_csv = '../Data/iridium.csv'\n",
    "\n",
    "def connect_to_db():\n",
    "    try:\n",
    "        connection = psycopg2.connect(\n",
    "            dbname=CONST_DB_NAME,\n",
    "            user=CONST_DB_USER,\n",
    "            password=CONST_DB_PASSWORD,\n",
    "            host=CONST_DB_HOST,\n",
    "            port=CONST_DB_PORT\n",
    "        )\n",
    "        return connection\n",
    "    except Exception as e:\n",
    "        print(f\"Error: {e}\")\n",
    "        return None\n",
    "\n",
    "def fetch_data(connection):\n",
    "    cursor = connection.cursor()\n",
    "    query = f\"SELECT * FROM {CONST_TABLE_NAME};\"\n",
    "    cursor.execute(query)\n",
    "    column_names = [desc[0].upper() for desc in cursor.description]\n",
    "    rows = cursor.fetchall()\n",
    "    cursor.close()\n",
    "    return rows, column_names\n",
    "\n",
    "def write_to_csv(rows, column_names):\n",
    "    with open(data_iridium_csv, mode='w', newline='') as csv_file:\n",
    "        # Convert column_names to uppercase\n",
    "        column_names = [name.upper() for name in column_names]\n",
    "        writer = csv.DictWriter(csv_file, fieldnames=column_names)\n",
    "        writer.writeheader()\n",
    "        for row in rows:\n",
    "            writer.writerow(dict(zip(column_names, row)))\n",
    "\n",
    "if __name__ == \"__main__\":\n",
    "    connection = connect_to_db()\n",
    "    if connection:\n",
    "        rows, column_names = fetch_data(connection)\n",
    "        connection.close()\n",
    "\n",
    "        if rows:\n",
    "            write_to_csv(rows, column_names)  \n",
    "            print(\"Data exported to CSV successfully.\")\n",
    "        else:\n",
    "            print(\"No data found in the table.\")\n",
    "    else:\n",
    "        print(\"Failed to connect to the database.\")\n",
    "        \n",
    "    "
   ],
   "metadata": {
    "collapsed": false,
    "ExecuteTime": {
     "end_time": "2024-03-15T12:00:31.711284Z",
     "start_time": "2024-03-15T12:00:30.374508Z"
    }
   },
   "id": "dfd0730330ce369e",
   "execution_count": 4
  }
 ],
 "metadata": {
  "kernelspec": {
   "display_name": "Python 3",
   "language": "python",
   "name": "python3"
  },
  "language_info": {
   "codemirror_mode": {
    "name": "ipython",
    "version": 2
   },
   "file_extension": ".py",
   "mimetype": "text/x-python",
   "name": "python",
   "nbconvert_exporter": "python",
   "pygments_lexer": "ipython2",
   "version": "2.7.6"
  }
 },
 "nbformat": 4,
 "nbformat_minor": 5
}
