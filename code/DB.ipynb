{
 "cells": [
  {
   "cell_type": "code",
   "source": [
    "import csv\n",
    "import psycopg2"
   ],
   "metadata": {
    "collapsed": false,
    "ExecuteTime": {
     "end_time": "2024-04-22T11:08:10.682059Z",
     "start_time": "2024-04-22T11:08:10.677985Z"
    }
   },
   "id": "1c682685a10221d4",
   "outputs": [],
   "execution_count": 9
  },
  {
   "cell_type": "code",
   "id": "initial_id",
   "metadata": {
    "collapsed": true,
    "ExecuteTime": {
     "end_time": "2024-04-22T11:08:12.177768Z",
     "start_time": "2024-04-22T11:08:10.708062Z"
    }
   },
   "source": [
    "CONST_DB_NAME = \"Nasa\"\n",
    "CONST_DB_USER = \"postgres\"\n",
    "CONST_DB_PASSWORD = \"SvetikAB\"\n",
    "CONST_DB_HOST = \"35.226.174.213\"\n",
    "CONST_DB_PORT = \"5432\"\n",
    "CONST_TABLE_NAME = \"satellitedata\"\n",
    "data_satellite_csv = '../Data/satellitedata.csv'\n",
    "\n",
    "def connect_to_db():\n",
    "    try:\n",
    "        connection = psycopg2.connect(\n",
    "            dbname=CONST_DB_NAME,\n",
    "            user=CONST_DB_USER,\n",
    "            password=CONST_DB_PASSWORD,\n",
    "            host=CONST_DB_HOST,\n",
    "            port=CONST_DB_PORT\n",
    "        )\n",
    "        return connection\n",
    "    except Exception as e:\n",
    "        print(f\"Error: {e}\")\n",
    "        return None\n",
    "\n",
    "def fetch_data(connection):\n",
    "    cursor = connection.cursor()\n",
    "    query = f\"SELECT * FROM {CONST_TABLE_NAME};\"\n",
    "    cursor.execute(query)\n",
    "    column_names = [desc[0].upper() for desc in cursor.description]\n",
    "    rows = cursor.fetchall()\n",
    "    cursor.close()\n",
    "    return rows, column_names\n",
    "\n",
    "def write_to_csv(rows, column_names):\n",
    "    with open(data_satellite_csv, mode='w', newline='') as csv_file:\n",
    "        # Convert column_names to uppercase\n",
    "        column_names = [name.upper() for name in column_names]\n",
    "        writer = csv.DictWriter(csv_file, fieldnames=column_names)\n",
    "        writer.writeheader()\n",
    "        for row in rows:\n",
    "            writer.writerow(dict(zip(column_names, row)))\n",
    "\n",
    "if __name__ == \"__main__\":\n",
    "    connection = connect_to_db()\n",
    "    if connection:\n",
    "        rows, column_names = fetch_data(connection)\n",
    "        connection.close()\n",
    "\n",
    "        if rows:\n",
    "            write_to_csv(rows, column_names)  \n",
    "            print(\"Data exported to CSV successfully.\")\n",
    "        else:\n",
    "            print(\"No data found in the table.\")\n",
    "    else:\n",
    "        print(\"Failed to connect to the database.\")"
   ],
   "outputs": [
    {
     "name": "stdout",
     "output_type": "stream",
     "text": [
      "Data exported to CSV successfully.\n"
     ]
    }
   ],
   "execution_count": 10
  },
  {
   "cell_type": "code",
   "source": [
    "CONST_DB_NAME = \"Nasa\"\n",
    "CONST_DB_USER = \"postgres\"\n",
    "CONST_DB_PASSWORD = \"SvetikAB\"\n",
    "CONST_DB_HOST = \"35.226.174.213\"\n",
    "CONST_DB_PORT = \"5432\"\n",
    "CONST_TABLE_NAME = \"cosmos\"\n",
    "data_cosmos_csv = '../Data/cosmos.csv'\n",
    "\n",
    "def connect_to_db():\n",
    "    try:\n",
    "        connection = psycopg2.connect(\n",
    "            dbname=CONST_DB_NAME,\n",
    "            user=CONST_DB_USER,\n",
    "            password=CONST_DB_PASSWORD,\n",
    "            host=CONST_DB_HOST,\n",
    "            port=CONST_DB_PORT\n",
    "        )\n",
    "        return connection\n",
    "    except Exception as e:\n",
    "        print(f\"Error: {e}\")\n",
    "        return None\n",
    "\n",
    "def fetch_data(connection):\n",
    "    cursor = connection.cursor()\n",
    "    query = f\"SELECT * FROM {CONST_TABLE_NAME};\"\n",
    "    cursor.execute(query)\n",
    "    column_names = [desc[0].upper() for desc in cursor.description]\n",
    "    rows = cursor.fetchall()\n",
    "    cursor.close()\n",
    "    return rows, column_names\n",
    "\n",
    "def write_to_csv(rows, column_names):\n",
    "    with open(data_cosmos_csv, mode='w', newline='') as csv_file:\n",
    "        # Convert column_names to uppercase\n",
    "        column_names = [name.upper() for name in column_names]\n",
    "        writer = csv.DictWriter(csv_file, fieldnames=column_names)\n",
    "        writer.writeheader()\n",
    "        for row in rows:\n",
    "            writer.writerow(dict(zip(column_names, row)))\n",
    "\n",
    "if __name__ == \"__main__\":\n",
    "    connection = connect_to_db()\n",
    "    if connection:\n",
    "        rows, column_names = fetch_data(connection)\n",
    "        connection.close()\n",
    "\n",
    "        if rows:\n",
    "            write_to_csv(rows, column_names)  \n",
    "            print(\"Data exported to CSV successfully.\")\n",
    "        else:\n",
    "            print(\"No data found in the table.\")\n",
    "    else:\n",
    "        print(\"Failed to connect to the database.\")"
   ],
   "metadata": {
    "collapsed": false,
    "ExecuteTime": {
     "end_time": "2024-04-22T11:08:13.773891Z",
     "start_time": "2024-04-22T11:08:12.178783Z"
    }
   },
   "id": "3746efd4472903bd",
   "outputs": [
    {
     "name": "stdout",
     "output_type": "stream",
     "text": [
      "Data exported to CSV successfully.\n"
     ]
    }
   ],
   "execution_count": 11
  },
  {
   "cell_type": "code",
   "source": [
    "CONST_DB_NAME = \"Nasa\"\n",
    "CONST_DB_USER = \"postgres\"\n",
    "CONST_DB_PASSWORD = \"SvetikAB\"\n",
    "CONST_DB_HOST = \"35.226.174.213\"\n",
    "CONST_DB_PORT = \"5432\"\n",
    "CONST_TABLE_NAME = \"iridium\"\n",
    "data_iridium_csv = '../Data/iridium.csv'\n",
    "\n",
    "def connect_to_db():\n",
    "    try:\n",
    "        connection = psycopg2.connect(\n",
    "            dbname=CONST_DB_NAME,\n",
    "            user=CONST_DB_USER,\n",
    "            password=CONST_DB_PASSWORD,\n",
    "            host=CONST_DB_HOST,\n",
    "            port=CONST_DB_PORT\n",
    "        )\n",
    "        return connection\n",
    "    except Exception as e:\n",
    "        print(f\"Error: {e}\")\n",
    "        return None\n",
    "\n",
    "def fetch_data(connection):\n",
    "    cursor = connection.cursor()\n",
    "    query = f\"SELECT * FROM {CONST_TABLE_NAME};\"\n",
    "    cursor.execute(query)\n",
    "    column_names = [desc[0].upper() for desc in cursor.description]\n",
    "    rows = cursor.fetchall()\n",
    "    cursor.close()\n",
    "    return rows, column_names\n",
    "\n",
    "def write_to_csv(rows, column_names):\n",
    "    with open(data_iridium_csv, mode='w', newline='') as csv_file:\n",
    "        # Convert column_names to uppercase\n",
    "        column_names = [name.upper() for name in column_names]\n",
    "        writer = csv.DictWriter(csv_file, fieldnames=column_names)\n",
    "        writer.writeheader()\n",
    "        for row in rows:\n",
    "            writer.writerow(dict(zip(column_names, row)))\n",
    "\n",
    "if __name__ == \"__main__\":\n",
    "    connection = connect_to_db()\n",
    "    if connection:\n",
    "        rows, column_names = fetch_data(connection)\n",
    "        connection.close()\n",
    "\n",
    "        if rows:\n",
    "            write_to_csv(rows, column_names)  \n",
    "            print(\"Data exported to CSV successfully.\")\n",
    "        else:\n",
    "            print(\"No data found in the table.\")\n",
    "    else:\n",
    "        print(\"Failed to connect to the database.\")\n",
    "        \n",
    "    "
   ],
   "metadata": {
    "collapsed": false,
    "ExecuteTime": {
     "end_time": "2024-04-22T11:08:15.095608Z",
     "start_time": "2024-04-22T11:08:13.774903Z"
    }
   },
   "id": "dfd0730330ce369e",
   "outputs": [
    {
     "name": "stdout",
     "output_type": "stream",
     "text": [
      "Data exported to CSV successfully.\n"
     ]
    }
   ],
   "execution_count": 12
  }
 ],
 "metadata": {
  "kernelspec": {
   "display_name": "Python 3",
   "language": "python",
   "name": "python3"
  },
  "language_info": {
   "codemirror_mode": {
    "name": "ipython",
    "version": 2
   },
   "file_extension": ".py",
   "mimetype": "text/x-python",
   "name": "python",
   "nbconvert_exporter": "python",
   "pygments_lexer": "ipython2",
   "version": "2.7.6"
  }
 },
 "nbformat": 4,
 "nbformat_minor": 5
}
