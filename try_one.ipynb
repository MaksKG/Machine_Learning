{
 "cells": [
  {
   "cell_type": "code",
   "execution_count": 3,
   "id": "f6306b8481761070",
   "metadata": {
    "ExecuteTime": {
     "end_time": "2023-12-15T10:47:38.867324900Z",
     "start_time": "2023-12-15T10:47:38.861535900Z"
    },
    "collapsed": false
   },
   "outputs": [
    {
     "name": "stdout",
     "output_type": "stream",
     "text": [
      "True\n"
     ]
    }
   ],
   "source": [
    "from sgp4.api import accelerated\n",
    "\n",
    "print(accelerated)"
   ]
  },
  {
   "cell_type": "code",
   "execution_count": 12,
   "id": "aefafae3",
   "metadata": {
    "ExecuteTime": {
     "end_time": "2024-01-15T16:00:42.634692500Z",
     "start_time": "2024-01-15T16:00:42.595477Z"
    }
   },
   "outputs": [
    {
     "name": "stdout",
     "output_type": "stream",
     "text": [
      "(5534.087156846886, 3747.7147554918547, 250.31885390632266)\n",
      "(-3.3333092388979164, 4.569933060489518, 5.263689675953919)\n"
     ]
    }
   ],
   "source": [
    "from sgp4.api import Satrec\n",
    "import pandas as pd\n",
    "\n",
    "\n",
    "# from sgp4.api import Satrec\n",
    "# import pandas as pd\n",
    "# s = '1 58230U 23171A   23341.58335648 -.00060329  00000+0 -30994-2 0  9995'\n",
    "# t = '2 58230  42.9999  86.1378 0001189 278.5878 284.7735 15.15988077  5832'\n",
    "# satellite = Satrec.twoline2rv(s, t)\n",
    "\n",
    "# jd, fr = 2458826.5\n",
    "# e, r, v = satellite.sgp4(jd)\n",
    "# e\n",
    "\n",
    "# print(r)  # Справжнє положення екватора Середнє рівнодення (км)\n",
    "\n",
    "# print(v)  # Справжня швидкість на екваторі Середня швидкість рівнодення (км/с)\n",
    "\n",
    "data = pd.read_csv('Data/2LE.csv')\n",
    "# data\n",
    "\n",
    "df = pd.DataFrame(data)\n",
    "df\n",
    "\n",
    "one = df.loc[[0]]\n",
    "two = df.loc[[1]]\n",
    "\n",
    "s = '1 58230U 23171A   23341.58335648 -.00060329 00000+0 -30994-2 0  9995'\n",
    "t = '2 58230  42.9999  86.1378 0001189 278.5878 284.7735 15.15988077  5832'\n",
    "\n",
    "satellite = Satrec.twoline2rv(s, t)\n",
    "jd, fr = 2460227, 0.8473379629629629\n",
    "e, r, v = satellite.sgp4(jd, fr)\n",
    "e\n",
    "\n",
    "print(r)  # True Equator Mean Equinox position (km)\n",
    "\n",
    "print(v)  # True Equator Mean Equinox velocity (km/s)"
   ]
  },
  {
   "cell_type": "code",
   "execution_count": 18,
   "id": "31da92d55045e17a",
   "metadata": {
    "ExecuteTime": {
     "end_time": "2024-01-15T16:03:18.237729600Z",
     "start_time": "2024-01-15T16:03:18.222310500Z"
    },
    "collapsed": false
   },
   "outputs": [
    {
     "data": {
      "text/html": [
       "<div>\n",
       "<style scoped>\n",
       "    .dataframe tbody tr th:only-of-type {\n",
       "        vertical-align: middle;\n",
       "    }\n",
       "\n",
       "    .dataframe tbody tr th {\n",
       "        vertical-align: top;\n",
       "    }\n",
       "\n",
       "    .dataframe thead th {\n",
       "        text-align: right;\n",
       "    }\n",
       "</style>\n",
       "<table border=\"1\" class=\"dataframe\">\n",
       "  <thead>\n",
       "    <tr style=\"text-align: right;\">\n",
       "      <th></th>\n",
       "      <th>one</th>\n",
       "      <th>two</th>\n",
       "      <th>three</th>\n",
       "      <th>four</th>\n",
       "      <th>five</th>\n",
       "      <th>six</th>\n",
       "      <th>seven</th>\n",
       "      <th>eight</th>\n",
       "    </tr>\n",
       "  </thead>\n",
       "  <tbody>\n",
       "    <tr>\n",
       "      <th>0</th>\n",
       "      <td>1</td>\n",
       "      <td>58230U</td>\n",
       "      <td>23171A</td>\n",
       "      <td>23341.58335648</td>\n",
       "      <td>-6.032900e-04</td>\n",
       "      <td>00000+0</td>\n",
       "      <td>-30994-2 0</td>\n",
       "      <td>9995.0</td>\n",
       "    </tr>\n",
       "    <tr>\n",
       "      <th>1</th>\n",
       "      <td>2</td>\n",
       "      <td>58230</td>\n",
       "      <td>42.9999</td>\n",
       "      <td>86.1378 0001189</td>\n",
       "      <td>2.785878e+02</td>\n",
       "      <td>284.7735</td>\n",
       "      <td>15.15988077</td>\n",
       "      <td>5832.0</td>\n",
       "    </tr>\n",
       "    <tr>\n",
       "      <th>2</th>\n",
       "      <td>1</td>\n",
       "      <td>58231U</td>\n",
       "      <td>23171B</td>\n",
       "      <td>23341.58335648</td>\n",
       "      <td>-5.428800e-04</td>\n",
       "      <td>00000+0</td>\n",
       "      <td>-27863-2 0</td>\n",
       "      <td>9994.0</td>\n",
       "    </tr>\n",
       "    <tr>\n",
       "      <th>3</th>\n",
       "      <td>2</td>\n",
       "      <td>58231</td>\n",
       "      <td>42.9999</td>\n",
       "      <td>86.1073 0001267</td>\n",
       "      <td>2.688182e+02</td>\n",
       "      <td>307.0120</td>\n",
       "      <td>15.15978236</td>\n",
       "      <td>5835.0</td>\n",
       "    </tr>\n",
       "    <tr>\n",
       "      <th>4</th>\n",
       "      <td>1</td>\n",
       "      <td>58232U</td>\n",
       "      <td>23171C</td>\n",
       "      <td>23341.25002315</td>\n",
       "      <td>3.057400e-04</td>\n",
       "      <td>00000+0</td>\n",
       "      <td>15716-2 0</td>\n",
       "      <td>9995.0</td>\n",
       "    </tr>\n",
       "    <tr>\n",
       "      <th>...</th>\n",
       "      <td>...</td>\n",
       "      <td>...</td>\n",
       "      <td>...</td>\n",
       "      <td>...</td>\n",
       "      <td>...</td>\n",
       "      <td>...</td>\n",
       "      <td>...</td>\n",
       "      <td>...</td>\n",
       "    </tr>\n",
       "    <tr>\n",
       "      <th>473</th>\n",
       "      <td>2</td>\n",
       "      <td>58505</td>\n",
       "      <td>86.4992</td>\n",
       "      <td>297.6629 0008809</td>\n",
       "      <td>2.854335e+02</td>\n",
       "      <td>267.8187</td>\n",
       "      <td>13.94553235</td>\n",
       "      <td>187.0</td>\n",
       "    </tr>\n",
       "    <tr>\n",
       "      <th>474</th>\n",
       "      <td>1</td>\n",
       "      <td>58506U</td>\n",
       "      <td>23190B</td>\n",
       "      <td>23341.15949090</td>\n",
       "      <td>5.600000e-07</td>\n",
       "      <td>00000+0</td>\n",
       "      <td>00000+0 0</td>\n",
       "      <td>9998.0</td>\n",
       "    </tr>\n",
       "    <tr>\n",
       "      <th>475</th>\n",
       "      <td>2</td>\n",
       "      <td>58506</td>\n",
       "      <td>86.5828</td>\n",
       "      <td>297.6577 0400616</td>\n",
       "      <td>1.018800e+01</td>\n",
       "      <td>104.4780</td>\n",
       "      <td>14.76421635</td>\n",
       "      <td>194.0</td>\n",
       "    </tr>\n",
       "    <tr>\n",
       "      <th>476</th>\n",
       "      <td>1</td>\n",
       "      <td>58507U</td>\n",
       "      <td>23190C</td>\n",
       "      <td>23341.15524929</td>\n",
       "      <td>5.600000e-07</td>\n",
       "      <td>00000+0</td>\n",
       "      <td>00000+0 0</td>\n",
       "      <td>9999.0</td>\n",
       "    </tr>\n",
       "    <tr>\n",
       "      <th>477</th>\n",
       "      <td>2</td>\n",
       "      <td>58507</td>\n",
       "      <td>86.5849</td>\n",
       "      <td>297.6588 0400467</td>\n",
       "      <td>1.030630e+01</td>\n",
       "      <td>81.8781</td>\n",
       "      <td>14.76458328</td>\n",
       "      <td>153.0</td>\n",
       "    </tr>\n",
       "  </tbody>\n",
       "</table>\n",
       "<p>478 rows × 8 columns</p>\n",
       "</div>"
      ],
      "text/plain": [
       "     one       two       three               four          five        six  \\\n",
       "0      1    58230U     23171A      23341.58335648 -6.032900e-04    00000+0   \n",
       "1      2    58230     42.9999     86.1378 0001189  2.785878e+02  284.7735    \n",
       "2      1    58231U   23171B       23341.58335648  -5.428800e-04    00000+0   \n",
       "3      2    58231    42.9999      86.1073 0001267  2.688182e+02  307.0120    \n",
       "4      1    58232U   23171C       23341.25002315   3.057400e-04    00000+0   \n",
       "..   ...       ...         ...                ...           ...        ...   \n",
       "473    2   58505      86.4992   297.6629 0008809   2.854335e+02  267.8187    \n",
       "474    1   58506U     23190B     23341.15949090    5.600000e-07    00000+0   \n",
       "475    2    58506     86.5828   297.6577 0400616   1.018800e+01  104.4780    \n",
       "476    1   58507U     23190C     23341.15524929    5.600000e-07    00000+0   \n",
       "477    2   58507      86.5849   297.6588 0400467   1.030630e+01   81.8781    \n",
       "\n",
       "             seven       eight  \n",
       "0       -30994-2 0      9995.0  \n",
       "1     15.15988077       5832.0  \n",
       "2     -27863-2 0        9994.0  \n",
       "3    15.15978236        5835.0  \n",
       "4      15716-2 0        9995.0  \n",
       "..             ...         ...  \n",
       "473  13.94553235         187.0  \n",
       "474    00000+0 0        9998.0  \n",
       "475  14.76421635         194.0  \n",
       "476    00000+0 0        9999.0  \n",
       "477  14.76458328         153.0  \n",
       "\n",
       "[478 rows x 8 columns]"
      ]
     },
     "execution_count": 18,
     "metadata": {},
     "output_type": "execute_result"
    }
   ],
   "source": [
    "df.loc[[0]]\n",
    "df\n"
   ]
  },
  {
   "cell_type": "code",
   "execution_count": 11,
   "id": "d9c581b3c8299666",
   "metadata": {
    "ExecuteTime": {
     "end_time": "2024-01-17T12:01:09.914743200Z",
     "start_time": "2024-01-17T12:01:09.909616900Z"
    },
    "collapsed": false
   },
   "outputs": [
    {
     "name": "stdout",
     "output_type": "stream",
     "text": [
      "2460227.5\n",
      "0.8473379629629629\n"
     ]
    }
   ],
   "source": [
    "from sgp4.api import jday\n",
    "\n",
    "jd, fr = jday(2023, 10, 10, 20,20,10)\n",
    "print(jd)\n",
    "\n",
    "print(fr)"
   ]
  },
  {
   "cell_type": "code",
   "execution_count": null,
   "id": "3fe1a6eb66729922",
   "metadata": {
    "collapsed": false
   },
   "outputs": [],
   "source": []
  }
 ],
 "metadata": {
  "kernelspec": {
   "display_name": "Python 3",
   "language": "python",
   "name": "python3"
  },
  "language_info": {
   "codemirror_mode": {
    "name": "ipython",
    "version": 3
   },
   "file_extension": ".py",
   "mimetype": "text/x-python",
   "name": "python",
   "nbconvert_exporter": "python",
   "pygments_lexer": "ipython3",
   "version": "3.11.6"
  }
 },
 "nbformat": 4,
 "nbformat_minor": 5
}
