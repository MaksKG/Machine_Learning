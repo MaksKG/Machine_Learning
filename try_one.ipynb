{
 "cells": [
  {
   "cell_type": "code",
   "execution_count": 3,
   "id": "f6306b8481761070",
   "metadata": {
    "ExecuteTime": {
     "end_time": "2023-12-15T10:47:38.867324900Z",
     "start_time": "2023-12-15T10:47:38.861535900Z"
    },
    "collapsed": false
   },
   "outputs": [
    {
     "name": "stdout",
     "output_type": "stream",
     "text": [
      "True\n"
     ]
    }
   ],
   "source": [
    "from sgp4.api import accelerated\n",
    "\n",
    "print(accelerated)"
   ]
  },
  {
   "cell_type": "code",
   "execution_count": 25,
   "id": "aefafae3",
   "metadata": {
    "ExecuteTime": {
     "end_time": "2024-01-15T16:00:42.634692500Z",
     "start_time": "2024-01-15T16:00:42.595477Z"
    }
   },
   "outputs": [
    {
     "ename": "TypeError",
     "evalue": "twoline2rv() argument 1 must be str, not list",
     "output_type": "error",
     "traceback": [
      "\u001b[1;31m---------------------------------------------------------------------------\u001b[0m",
      "\u001b[1;31mTypeError\u001b[0m                                 Traceback (most recent call last)",
      "Cell \u001b[1;32mIn[25], line 34\u001b[0m\n\u001b[0;32m     28\u001b[0m s \u001b[38;5;241m=\u001b[39m \u001b[38;5;124m\"\u001b[39m\u001b[38;5;130;01m\\t\u001b[39;00m\u001b[38;5;124m\"\u001b[39m\u001b[38;5;241m.\u001b[39mjoin([\u001b[38;5;28mstr\u001b[39m(i) \u001b[38;5;28;01mfor\u001b[39;00m i \u001b[38;5;129;01min\u001b[39;00m one\u001b[38;5;241m.\u001b[39mtolist()])\n\u001b[0;32m     29\u001b[0m t \u001b[38;5;241m=\u001b[39m \u001b[38;5;124m\"\u001b[39m\u001b[38;5;130;01m\\t\u001b[39;00m\u001b[38;5;124m\"\u001b[39m\u001b[38;5;241m.\u001b[39mjoin([\u001b[38;5;28mstr\u001b[39m(i) \u001b[38;5;28;01mfor\u001b[39;00m i \u001b[38;5;129;01min\u001b[39;00m two\u001b[38;5;241m.\u001b[39mtolist()])\n\u001b[1;32m---> 34\u001b[0m satellite \u001b[38;5;241m=\u001b[39m \u001b[43mSatrec\u001b[49m\u001b[38;5;241;43m.\u001b[39;49m\u001b[43mtwoline2rv\u001b[49m\u001b[43m(\u001b[49m\u001b[43mone\u001b[49m\u001b[38;5;241;43m.\u001b[39;49m\u001b[43mtolist\u001b[49m\u001b[43m(\u001b[49m\u001b[43m)\u001b[49m\u001b[43m,\u001b[49m\u001b[43mtwo\u001b[49m\u001b[38;5;241;43m.\u001b[39;49m\u001b[43mtolist\u001b[49m\u001b[43m(\u001b[49m\u001b[43m)\u001b[49m\u001b[43m)\u001b[49m\n\u001b[0;32m     35\u001b[0m jd, fr \u001b[38;5;241m=\u001b[39m \u001b[38;5;241m2460227\u001b[39m, \u001b[38;5;241m0.8473379629629629\u001b[39m\n\u001b[0;32m     36\u001b[0m e, r, v \u001b[38;5;241m=\u001b[39m satellite\u001b[38;5;241m.\u001b[39msgp4(jd, fr)\n",
      "\u001b[1;31mTypeError\u001b[0m: twoline2rv() argument 1 must be str, not list"
     ]
    }
   ],
   "source": [
    "from sgp4.api import Satrec\n",
    "import pandas as pd\n",
    "\n",
    "\n",
    "# from sgp4.api import Satrec\n",
    "# import pandas as pd\n",
    "# s = '1 58230U 23171A   23341.58335648 -.00060329  00000+0 -30994-2 0  9995'\n",
    "# t = '2 58230  42.9999  86.1378 0001189 278.5878 284.7735 15.15988077  5832'\n",
    "# satellite = Satrec.twoline2rv(s, t)\n",
    "\n",
    "# jd, fr = 2458826.5\n",
    "# e, r, v = satellite.sgp4(jd)\n",
    "# e\n",
    "\n",
    "# print(r)  # Справжнє положення екватора Середнє рівнодення (км)\n",
    "\n",
    "# print(v)  # Справжня швидкість на екваторі Середня швидкість рівнодення (км/с)\n",
    "\n",
    "data = pd.read_csv('Data/2LE.csv')\n",
    "# data\n",
    "\n",
    "df = pd.DataFrame(data)\n",
    "df\n",
    "\n",
    "one =  df.iloc[0,:]\n",
    "two =  df.iloc[1,:]\n",
    "\n",
    "s = \"\\t\".join([str(i) for i in one.tolist()])\n",
    "t = \"\\t\".join([str(i) for i in two.tolist()])\n",
    "\n",
    "\n",
    "\n",
    "\n",
    "satellite = Satrec.twoline2rv(one.tolist(),two.tolist())\n",
    "jd, fr = 2460227, 0.8473379629629629\n",
    "e, r, v = satellite.sgp4(jd, fr)\n",
    "e\n",
    "\n",
    "print(r)  # True Equator Mean Equinox position (km)\n",
    "\n",
    "print(v)  # True Equator Mean Equinox velocity (km/s)\n",
    "\n"
   ]
  },
  {
   "cell_type": "code",
   "execution_count": 14,
   "id": "31da92d55045e17a",
   "metadata": {
    "ExecuteTime": {
     "end_time": "2024-01-15T16:03:18.237729600Z",
     "start_time": "2024-01-15T16:03:18.222310500Z"
    },
    "collapsed": false
   },
   "outputs": [
    {
     "data": {
      "text/plain": [
       "one                             1\n",
       "two                        58230U\n",
       "   three                  23171A \n",
       "       four        23341.58335648\n",
       "         five           -0.000603\n",
       "        six               00000+0\n",
       "    seven              -30994-2 0\n",
       "      eight                9995.0\n",
       "Name: 0, dtype: object"
      ]
     },
     "execution_count": 14,
     "metadata": {},
     "output_type": "execute_result"
    }
   ],
   "source": [
    "df = df.iloc[0,:]\n",
    "df\n"
   ]
  },
  {
   "cell_type": "code",
   "execution_count": 11,
   "id": "d9c581b3c8299666",
   "metadata": {
    "ExecuteTime": {
     "end_time": "2024-01-17T12:01:09.914743200Z",
     "start_time": "2024-01-17T12:01:09.909616900Z"
    },
    "collapsed": false
   },
   "outputs": [
    {
     "name": "stdout",
     "output_type": "stream",
     "text": [
      "2460227.5\n",
      "0.8473379629629629\n"
     ]
    }
   ],
   "source": [
    "from sgp4.api import jday\n",
    "\n",
    "jd, fr = jday(2023, 10, 10, 20,20,10)\n",
    "print(jd)\n",
    "\n",
    "print(fr)"
   ]
  },
  {
   "cell_type": "code",
   "execution_count": 22,
   "id": "3fe1a6eb66729922",
   "metadata": {
    "collapsed": false
   },
   "outputs": [
    {
     "data": {
      "text/plain": [
       "'2  58230   42.9999   86.1378 0001189 278.5878 284.7735  15.15988077  5832.0'"
      ]
     },
     "execution_count": 22,
     "metadata": {},
     "output_type": "execute_result"
    }
   ],
   "source": [
    "\" \".join([str(i) for i in one.tolist()])\n",
    "\" \".join([str(i) for i in two.tolist()])\n"
   ]
  }
 ],
 "metadata": {
  "kernelspec": {
   "display_name": "Python 3",
   "language": "python",
   "name": "python3"
  },
  "language_info": {
   "codemirror_mode": {
    "name": "ipython",
    "version": 3
   },
   "file_extension": ".py",
   "mimetype": "text/x-python",
   "name": "python",
   "nbconvert_exporter": "python",
   "pygments_lexer": "ipython3",
   "version": "3.11.6"
  }
 },
 "nbformat": 4,
 "nbformat_minor": 5
}
