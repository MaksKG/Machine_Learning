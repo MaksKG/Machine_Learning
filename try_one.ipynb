{
 "cells": [
  {
   "cell_type": "code",
   "execution_count": 3,
   "id": "f6306b8481761070",
   "metadata": {
    "ExecuteTime": {
     "end_time": "2023-12-15T10:47:38.867324900Z",
     "start_time": "2023-12-15T10:47:38.861535900Z"
    },
    "collapsed": false
   },
   "outputs": [
    {
     "name": "stdout",
     "output_type": "stream",
     "text": [
      "True\n"
     ]
    }
   ],
   "source": [
    "from sgp4.api import accelerated\n",
    "\n",
    "print(accelerated)"
   ]
  },
  {
   "cell_type": "code",
   "execution_count": 15,
   "id": "aefafae3",
   "metadata": {
    "ExecuteTime": {
     "end_time": "2024-01-17T17:48:12.938365900Z",
     "start_time": "2024-01-17T17:48:12.930970900Z"
    }
   },
   "outputs": [
    {
     "name": "stdout",
     "output_type": "stream",
     "text": [
      "1 58230U 23171A   23341.58335648 -.00060329  00000+0 -30994-2 0  9995\n",
      "\n",
      "2 58230  42.9999  86.1378 0001189 278.5878 284.7735 15.15988077  5832\n",
      "\n",
      "(2887.35097510969, -4169.9687988240985, -4642.384121314597)\n",
      "(5.83116459671605, 4.837856156373658, -0.7192684072249157)\n"
     ]
    }
   ],
   "source": [
    "from sgp4.api import Satrec\n",
    "import pandas as pd\n",
    "\n",
    "\n",
    "# from sgp4.api import Satrec\n",
    "# import pandas as pd\n",
    "# s = '1 58230U 23171A   23341.58335648 -.00060329  00000+0 -30994-2 0  9995'\n",
    "# t = '2 58230  42.9999  86.1378 0001189 278.5878 284.7735 15.15988077  5832'\n",
    "# satellite = Satrec.twoline2rv(s, t)\n",
    "\n",
    "# jd, fr = 2458826.5\n",
    "# e, r, v = satellite.sgp4(jd)\n",
    "# e\n",
    "\n",
    "# print(r)  # Справжнє положення екватора Середнє рівнодення (км)\n",
    "\n",
    "# print(v)  # Справжня швидкість на екваторі Середня швидкість рівнодення (км/с)\n",
    "\n",
    "\n",
    "\n",
    "\n",
    "with open('Data/2LE.txt', 'r') as file:\n",
    "    s = file.readline()\n",
    "    t = file.readline()\n",
    "    print(s)\n",
    "    print(t)\n",
    "\n",
    "\n",
    "satellite = Satrec.twoline2rv(s,t)\n",
    "jd, fr = 2460228, 0.8473379629629629\n",
    "e, r, v = satellite.sgp4(jd, fr)\n",
    "e\n",
    "\n",
    "print(r)  # True Equator Mean Equinox position (km)\n",
    "\n",
    "print(v)  # True Equator Mean Equinox velocity (km/s)\n",
    "# Автоматизувати \n"
   ]
  },
  {
   "cell_type": "code",
   "execution_count": 14,
   "id": "31da92d55045e17a",
   "metadata": {
    "ExecuteTime": {
     "end_time": "2024-01-15T16:03:18.237729600Z",
     "start_time": "2024-01-15T16:03:18.222310500Z"
    },
    "collapsed": false
   },
   "outputs": [
    {
     "data": {
      "text/plain": [
       "one                             1\n",
       "two                        58230U\n",
       "   three                  23171A \n",
       "       four        23341.58335648\n",
       "         five           -0.000603\n",
       "        six               00000+0\n",
       "    seven              -30994-2 0\n",
       "      eight                9995.0\n",
       "Name: 0, dtype: object"
      ]
     },
     "execution_count": 14,
     "metadata": {},
     "output_type": "execute_result"
    }
   ],
   "source": [
    "df = df.iloc[0,:]\n",
    "df\n"
   ]
  },
  {
   "cell_type": "code",
   "execution_count": 75,
   "id": "d9c581b3c8299666",
   "metadata": {
    "collapsed": false,
    "ExecuteTime": {
     "end_time": "2024-01-17T18:10:32.077956300Z",
     "start_time": "2024-01-17T18:10:32.063763Z"
    }
   },
   "outputs": [
    {
     "name": "stdout",
     "output_type": "stream",
     "text": [
      "2460324.5\n",
      "0.8473379629629629\n"
     ]
    }
   ],
   "source": [
    "from sgp4.api import jday\n",
    "\n",
    "jd, fr = jday(2024, 1, 15, 20,20,10)\n",
    "print(jd)\n",
    "\n",
    "print(fr)"
   ]
  },
  {
   "cell_type": "code",
   "execution_count": 22,
   "id": "3fe1a6eb66729922",
   "metadata": {
    "collapsed": false
   },
   "outputs": [
    {
     "data": {
      "text/plain": [
       "'2  58230   42.9999   86.1378 0001189 278.5878 284.7735  15.15988077  5832.0'"
      ]
     },
     "execution_count": 22,
     "metadata": {},
     "output_type": "execute_result"
    }
   ],
   "source": [
    "\" \".join([str(i) for i in one.tolist()])\n",
    "\" \".join([str(i) for i in two.tolist()])\n"
   ]
  },
  {
   "cell_type": "code",
   "outputs": [
    {
     "name": "stdout",
     "output_type": "stream",
     "text": [
      "1 58230U 23171A   23341.58335648 -.00060329  00000+0 -30994-2 0  9995\n",
      "\n",
      "2 58230  42.9999  86.1378 0001189 278.5878 284.7735 15.15988077  5832\n"
     ]
    }
   ],
   "source": [
    "with open('Data/2LE.txt', 'r') as file:\n",
    "    s = file.readline()\n",
    "    t = file.readline()\n",
    "    print(s)\n",
    "    print(t)"
   ],
   "metadata": {
    "collapsed": false,
    "ExecuteTime": {
     "end_time": "2024-01-17T17:44:36.339168100Z",
     "start_time": "2024-01-17T17:44:36.330026300Z"
    }
   },
   "id": "b51890cd2ce07ec",
   "execution_count": 2
  },
  {
   "cell_type": "code",
   "outputs": [
    {
     "data": {
      "text/plain": "(0,\n (-40092.049130868, 648929.265822713, 230782.17850577665),\n (-0.5792185825745424, -0.19329335631680428, 0.4529821690631753))"
     },
     "execution_count": 77,
     "metadata": {},
     "output_type": "execute_result"
    }
   ],
   "source": [
    "#main code\n",
    "from sgp4 import omm\n",
    "\n",
    "data = pd.read_csv('Data/db.csv')\n",
    "data\n",
    "\n",
    "\n",
    "\n",
    "with open('Data/db.csv') as f:\n",
    "        lines = omm.parse_csv(f)\n",
    "        fields = [field for field in lines]\n",
    "\n",
    "\n",
    "field = fields[30]\n",
    "\n",
    "sat = Satrec(\"2023-187B\")\n",
    "satellite = omm.initialize(sat, field)\n",
    "\n",
    "jd, fr = 2460324.5, 0.8473379629629629\n",
    "e, r, v = sat.sgp4(jd, fr)\n",
    "\n",
    "e,r,v\n",
    "\n"
   ],
   "metadata": {
    "collapsed": false,
    "ExecuteTime": {
     "end_time": "2024-01-17T18:10:53.970093200Z",
     "start_time": "2024-01-17T18:10:53.959573600Z"
    }
   },
   "id": "183302e3641888e4",
   "execution_count": 77
  },
  {
   "cell_type": "code",
   "outputs": [
    {
     "data": {
      "text/plain": "          OBJECT_NAME  OBJECT_ID                       EPOCH  MEAN_MOTION  \\\n0              PSYCHE  2023-157A  2023-10-13T14:28:09.729696    15.296585   \n1    FALCON HEAVY R/B  2023-157B  2023-10-13T14:28:09.729696    15.296585   \n2      STARLINK-30568  2023-158A  2023-11-09T14:00:01.000224    15.544348   \n3      STARLINK-30575  2023-158B  2023-11-06T10:30:39.041568    15.682098   \n4      STARLINK-30577  2023-158C  2023-11-09T14:00:01.000224    15.544255   \n..                ...        ...                         ...          ...   \n151         CZ-6A DEB  2023-168D  2023-11-09T13:04:30.875520    14.868117   \n152            TJS-10  2023-169A  2023-11-09T16:41:19.370976     1.004371   \n153         CZ-7A R/B  2023-169B  2023-11-09T05:13:10.149312     2.434218   \n154         2023-172A  2023-172A  2023-11-09T16:38:43.285920     2.282938   \n155         2023-172B  2023-172B  2023-11-09T16:57:09.366624     2.382214   \n\n     ECCENTRICITY  INCLINATION  RA_OF_ASC_NODE  ARG_OF_PERICENTER  \\\n0        0.046720      30.0000         47.5426           123.5100   \n1        0.046720      30.0000         47.5426           123.5100   \n2        0.000181      42.9995        341.6491           284.4474   \n3        0.001143      42.9989          0.2935           303.7135   \n4        0.000167      42.9994        341.6431           283.7861   \n..            ...          ...             ...                ...   \n151      0.000305      97.8265        318.5640           152.5389   \n152      0.004114       0.0978         75.4086            42.2493   \n153      0.721882      16.9337        284.8153           182.6936   \n154      0.729371      28.3977        216.2785           179.4324   \n155      0.723112      28.3963        216.2181           178.7397   \n\n     MEAN_ANOMALY  EPHEMERIS_TYPE CLASSIFICATION_TYPE  NORAD_CAT_ID  \\\n0        359.9800               0                   U         58049   \n1        359.9800               0                   U         58050   \n2        116.8989               0                   U         58051   \n3         56.2642               0                   U         58052   \n4        120.4831               0                   U         58053   \n..            ...             ...                 ...           ...   \n151      207.5988               0                   U         58202   \n152      353.8281               0                   U         58204   \n153      168.5799               0                   U         58205   \n154      167.1655               0                   U         58253   \n155      185.5310               0                   U         58254   \n\n     ELEMENT_SET_NO  REV_AT_EPOCH     BSTAR  MEAN_MOTION_DOT  MEAN_MOTION_DDOT  \n0               999             0  0.000000     1.209000e-05         -0.000004  \n1               999             0  0.000000     1.209000e-05         -0.000004  \n2               999           530 -0.026539    -1.610816e-02          0.000000  \n3               999           493 -0.003596    -3.968210e-03          0.000000  \n4               999           546 -0.026579    -1.612437e-02          0.000000  \n..              ...           ...       ...              ...               ...  \n151             999           127  0.001303     1.157900e-04          0.000000  \n152             999            14  0.000000     4.500000e-07          0.000000  \n153             999            13  0.000308     3.047990e-03         -0.000011  \n154             999             1  0.000000    -5.070000e-06          0.000000  \n155             999             0  0.000000    -1.616000e-05          0.000002  \n\n[156 rows x 17 columns]",
      "text/html": "<div>\n<style scoped>\n    .dataframe tbody tr th:only-of-type {\n        vertical-align: middle;\n    }\n\n    .dataframe tbody tr th {\n        vertical-align: top;\n    }\n\n    .dataframe thead th {\n        text-align: right;\n    }\n</style>\n<table border=\"1\" class=\"dataframe\">\n  <thead>\n    <tr style=\"text-align: right;\">\n      <th></th>\n      <th>OBJECT_NAME</th>\n      <th>OBJECT_ID</th>\n      <th>EPOCH</th>\n      <th>MEAN_MOTION</th>\n      <th>ECCENTRICITY</th>\n      <th>INCLINATION</th>\n      <th>RA_OF_ASC_NODE</th>\n      <th>ARG_OF_PERICENTER</th>\n      <th>MEAN_ANOMALY</th>\n      <th>EPHEMERIS_TYPE</th>\n      <th>CLASSIFICATION_TYPE</th>\n      <th>NORAD_CAT_ID</th>\n      <th>ELEMENT_SET_NO</th>\n      <th>REV_AT_EPOCH</th>\n      <th>BSTAR</th>\n      <th>MEAN_MOTION_DOT</th>\n      <th>MEAN_MOTION_DDOT</th>\n    </tr>\n  </thead>\n  <tbody>\n    <tr>\n      <th>0</th>\n      <td>PSYCHE</td>\n      <td>2023-157A</td>\n      <td>2023-10-13T14:28:09.729696</td>\n      <td>15.296585</td>\n      <td>0.046720</td>\n      <td>30.0000</td>\n      <td>47.5426</td>\n      <td>123.5100</td>\n      <td>359.9800</td>\n      <td>0</td>\n      <td>U</td>\n      <td>58049</td>\n      <td>999</td>\n      <td>0</td>\n      <td>0.000000</td>\n      <td>1.209000e-05</td>\n      <td>-0.000004</td>\n    </tr>\n    <tr>\n      <th>1</th>\n      <td>FALCON HEAVY R/B</td>\n      <td>2023-157B</td>\n      <td>2023-10-13T14:28:09.729696</td>\n      <td>15.296585</td>\n      <td>0.046720</td>\n      <td>30.0000</td>\n      <td>47.5426</td>\n      <td>123.5100</td>\n      <td>359.9800</td>\n      <td>0</td>\n      <td>U</td>\n      <td>58050</td>\n      <td>999</td>\n      <td>0</td>\n      <td>0.000000</td>\n      <td>1.209000e-05</td>\n      <td>-0.000004</td>\n    </tr>\n    <tr>\n      <th>2</th>\n      <td>STARLINK-30568</td>\n      <td>2023-158A</td>\n      <td>2023-11-09T14:00:01.000224</td>\n      <td>15.544348</td>\n      <td>0.000181</td>\n      <td>42.9995</td>\n      <td>341.6491</td>\n      <td>284.4474</td>\n      <td>116.8989</td>\n      <td>0</td>\n      <td>U</td>\n      <td>58051</td>\n      <td>999</td>\n      <td>530</td>\n      <td>-0.026539</td>\n      <td>-1.610816e-02</td>\n      <td>0.000000</td>\n    </tr>\n    <tr>\n      <th>3</th>\n      <td>STARLINK-30575</td>\n      <td>2023-158B</td>\n      <td>2023-11-06T10:30:39.041568</td>\n      <td>15.682098</td>\n      <td>0.001143</td>\n      <td>42.9989</td>\n      <td>0.2935</td>\n      <td>303.7135</td>\n      <td>56.2642</td>\n      <td>0</td>\n      <td>U</td>\n      <td>58052</td>\n      <td>999</td>\n      <td>493</td>\n      <td>-0.003596</td>\n      <td>-3.968210e-03</td>\n      <td>0.000000</td>\n    </tr>\n    <tr>\n      <th>4</th>\n      <td>STARLINK-30577</td>\n      <td>2023-158C</td>\n      <td>2023-11-09T14:00:01.000224</td>\n      <td>15.544255</td>\n      <td>0.000167</td>\n      <td>42.9994</td>\n      <td>341.6431</td>\n      <td>283.7861</td>\n      <td>120.4831</td>\n      <td>0</td>\n      <td>U</td>\n      <td>58053</td>\n      <td>999</td>\n      <td>546</td>\n      <td>-0.026579</td>\n      <td>-1.612437e-02</td>\n      <td>0.000000</td>\n    </tr>\n    <tr>\n      <th>...</th>\n      <td>...</td>\n      <td>...</td>\n      <td>...</td>\n      <td>...</td>\n      <td>...</td>\n      <td>...</td>\n      <td>...</td>\n      <td>...</td>\n      <td>...</td>\n      <td>...</td>\n      <td>...</td>\n      <td>...</td>\n      <td>...</td>\n      <td>...</td>\n      <td>...</td>\n      <td>...</td>\n      <td>...</td>\n    </tr>\n    <tr>\n      <th>151</th>\n      <td>CZ-6A DEB</td>\n      <td>2023-168D</td>\n      <td>2023-11-09T13:04:30.875520</td>\n      <td>14.868117</td>\n      <td>0.000305</td>\n      <td>97.8265</td>\n      <td>318.5640</td>\n      <td>152.5389</td>\n      <td>207.5988</td>\n      <td>0</td>\n      <td>U</td>\n      <td>58202</td>\n      <td>999</td>\n      <td>127</td>\n      <td>0.001303</td>\n      <td>1.157900e-04</td>\n      <td>0.000000</td>\n    </tr>\n    <tr>\n      <th>152</th>\n      <td>TJS-10</td>\n      <td>2023-169A</td>\n      <td>2023-11-09T16:41:19.370976</td>\n      <td>1.004371</td>\n      <td>0.004114</td>\n      <td>0.0978</td>\n      <td>75.4086</td>\n      <td>42.2493</td>\n      <td>353.8281</td>\n      <td>0</td>\n      <td>U</td>\n      <td>58204</td>\n      <td>999</td>\n      <td>14</td>\n      <td>0.000000</td>\n      <td>4.500000e-07</td>\n      <td>0.000000</td>\n    </tr>\n    <tr>\n      <th>153</th>\n      <td>CZ-7A R/B</td>\n      <td>2023-169B</td>\n      <td>2023-11-09T05:13:10.149312</td>\n      <td>2.434218</td>\n      <td>0.721882</td>\n      <td>16.9337</td>\n      <td>284.8153</td>\n      <td>182.6936</td>\n      <td>168.5799</td>\n      <td>0</td>\n      <td>U</td>\n      <td>58205</td>\n      <td>999</td>\n      <td>13</td>\n      <td>0.000308</td>\n      <td>3.047990e-03</td>\n      <td>-0.000011</td>\n    </tr>\n    <tr>\n      <th>154</th>\n      <td>2023-172A</td>\n      <td>2023-172A</td>\n      <td>2023-11-09T16:38:43.285920</td>\n      <td>2.282938</td>\n      <td>0.729371</td>\n      <td>28.3977</td>\n      <td>216.2785</td>\n      <td>179.4324</td>\n      <td>167.1655</td>\n      <td>0</td>\n      <td>U</td>\n      <td>58253</td>\n      <td>999</td>\n      <td>1</td>\n      <td>0.000000</td>\n      <td>-5.070000e-06</td>\n      <td>0.000000</td>\n    </tr>\n    <tr>\n      <th>155</th>\n      <td>2023-172B</td>\n      <td>2023-172B</td>\n      <td>2023-11-09T16:57:09.366624</td>\n      <td>2.382214</td>\n      <td>0.723112</td>\n      <td>28.3963</td>\n      <td>216.2181</td>\n      <td>178.7397</td>\n      <td>185.5310</td>\n      <td>0</td>\n      <td>U</td>\n      <td>58254</td>\n      <td>999</td>\n      <td>0</td>\n      <td>0.000000</td>\n      <td>-1.616000e-05</td>\n      <td>0.000002</td>\n    </tr>\n  </tbody>\n</table>\n<p>156 rows × 17 columns</p>\n</div>"
     },
     "execution_count": 18,
     "metadata": {},
     "output_type": "execute_result"
    }
   ],
   "source": [
    "from sgp4 import omm\n",
    "\n",
    "data = pd.read_csv('Data/db.csv')\n",
    "data"
   ],
   "metadata": {
    "collapsed": false,
    "ExecuteTime": {
     "end_time": "2024-01-17T17:54:01.030175100Z",
     "start_time": "2024-01-17T17:54:01.008345600Z"
    }
   },
   "id": "9fb013c059a9e6b0",
   "execution_count": 18
  }
 ],
 "metadata": {
  "kernelspec": {
   "display_name": "Python 3",
   "language": "python",
   "name": "python3"
  },
  "language_info": {
   "codemirror_mode": {
    "name": "ipython",
    "version": 3
   },
   "file_extension": ".py",
   "mimetype": "text/x-python",
   "name": "python",
   "nbconvert_exporter": "python",
   "pygments_lexer": "ipython3",
   "version": "3.11.6"
  }
 },
 "nbformat": 4,
 "nbformat_minor": 5
}
